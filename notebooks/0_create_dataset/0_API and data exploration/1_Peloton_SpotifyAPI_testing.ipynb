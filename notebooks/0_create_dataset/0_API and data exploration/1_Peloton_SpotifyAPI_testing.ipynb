{
 "cells": [
  {
   "cell_type": "markdown",
   "metadata": {},
   "source": [
    "**This notebook explores the song and artist portion of the original Peloton dataset and tests pulling information on the tracks via the Spotify API. This function is used to create the dataset utilized for modeling.**"
   ]
  },
  {
   "cell_type": "code",
   "execution_count": 1,
   "metadata": {},
   "outputs": [],
   "source": [
    "import pandas as pd\n",
    "import numpy as np\n",
    "\n",
    "# Source: https://betterprogramming.pub/how-to-extract-any-artists-data-using-spotify-s-api-python-and-spotipy-4c079401bc37\n",
    "import spotipy\n",
    "from spotipy.oauth2 import SpotifyClientCredentials\n",
    "import time \n",
    "\n",
    "import pickle"
   ]
  },
  {
   "cell_type": "code",
   "execution_count": 117,
   "metadata": {},
   "outputs": [
    {
     "data": {
      "text/html": [
       "<div>\n",
       "<style scoped>\n",
       "    .dataframe tbody tr th:only-of-type {\n",
       "        vertical-align: middle;\n",
       "    }\n",
       "\n",
       "    .dataframe tbody tr th {\n",
       "        vertical-align: top;\n",
       "    }\n",
       "\n",
       "    .dataframe thead th {\n",
       "        text-align: right;\n",
       "    }\n",
       "</style>\n",
       "<table border=\"1\" class=\"dataframe\">\n",
       "  <thead>\n",
       "    <tr style=\"text-align: right;\">\n",
       "      <th></th>\n",
       "      <th>classId</th>\n",
       "      <th>className</th>\n",
       "      <th>classDescription</th>\n",
       "      <th>classDifficulty</th>\n",
       "      <th>classDuration</th>\n",
       "      <th>classType</th>\n",
       "      <th>classLength</th>\n",
       "      <th>classLocation</th>\n",
       "      <th>classOriginalAirdate</th>\n",
       "      <th>classRating</th>\n",
       "      <th>classRatingCount</th>\n",
       "      <th>instructorName</th>\n",
       "      <th>instructorBio</th>\n",
       "      <th>classEquipment</th>\n",
       "      <th>classSongs</th>\n",
       "      <th>classArtists</th>\n",
       "      <th>classUrl</th>\n",
       "    </tr>\n",
       "  </thead>\n",
       "  <tbody>\n",
       "    <tr>\n",
       "      <th>0</th>\n",
       "      <td>7f66378211c9476b9b5619bf989f91d0</td>\n",
       "      <td>20 min Peace Meditation</td>\n",
       "      <td>A guided meditation that focuses on cultivatin...</td>\n",
       "      <td>4.3333</td>\n",
       "      <td>20</td>\n",
       "      <td>Meditation</td>\n",
       "      <td>23</td>\n",
       "      <td>psny-studio-2</td>\n",
       "      <td>2021-09-03 13:25:00</td>\n",
       "      <td>0.9847</td>\n",
       "      <td>131</td>\n",
       "      <td>Aditi Shah</td>\n",
       "      <td>To Aditi, yoga goes beyond movement and can br...</td>\n",
       "      <td>Yoga Block</td>\n",
       "      <td>Meditation 22</td>\n",
       "      <td>RIOPY</td>\n",
       "      <td>https://members.onepeloton.com/classes/bootcam...</td>\n",
       "    </tr>\n",
       "    <tr>\n",
       "      <th>1</th>\n",
       "      <td>54ac61803b364b2fa8378acd9f593cdb</td>\n",
       "      <td>15 min Bodyweight Strength</td>\n",
       "      <td>No equipment, no problem. Join us for a high-e...</td>\n",
       "      <td>5.7755</td>\n",
       "      <td>15</td>\n",
       "      <td>Strength</td>\n",
       "      <td>19</td>\n",
       "      <td>psny-studio-3</td>\n",
       "      <td>2021-09-03 13:19:00</td>\n",
       "      <td>0.9933</td>\n",
       "      <td>297</td>\n",
       "      <td>Olivia Amato</td>\n",
       "      <td>Born and raised in New York, Olivia grew up pl...</td>\n",
       "      <td>Workout Mat</td>\n",
       "      <td>California Gurls,Let's Get Loud,Let It Rock (f...</td>\n",
       "      <td>Katy Perry,Snoop Dogg,Jennifer Lopez,Kevin Rud...</td>\n",
       "      <td>https://members.onepeloton.com/classes/bootcam...</td>\n",
       "    </tr>\n",
       "    <tr>\n",
       "      <th>2</th>\n",
       "      <td>c75fd4831573483c9d45739aae11d083</td>\n",
       "      <td>20 min Focus Flow: Lower Body</td>\n",
       "      <td>This yoga flow class focuses on poses that eng...</td>\n",
       "      <td>4.3664</td>\n",
       "      <td>20</td>\n",
       "      <td>Yoga</td>\n",
       "      <td>23</td>\n",
       "      <td>psny-studio-2</td>\n",
       "      <td>2021-09-03 12:51:00</td>\n",
       "      <td>1.0000</td>\n",
       "      <td>159</td>\n",
       "      <td>Aditi Shah</td>\n",
       "      <td>To Aditi, yoga goes beyond movement and can br...</td>\n",
       "      <td>Yoga Blanket,Yoga Block,Yoga Mat</td>\n",
       "      <td>Interlude No 1,Oceansize,She Just Likes To Fig...</td>\n",
       "      <td>James Vincent McMorrow,Oh Wonder,Four Tet,Grim...</td>\n",
       "      <td>https://members.onepeloton.com/classes/bootcam...</td>\n",
       "    </tr>\n",
       "    <tr>\n",
       "      <th>3</th>\n",
       "      <td>470086936f7a4723ab5a53cb80b571ff</td>\n",
       "      <td>45 min Pop Bootcamp</td>\n",
       "      <td>Split your workout 50/50 between cardio on the...</td>\n",
       "      <td>7.8312</td>\n",
       "      <td>45</td>\n",
       "      <td>Tread Bootcamp</td>\n",
       "      <td>50</td>\n",
       "      <td>psny-studio-4</td>\n",
       "      <td>2021-09-03 11:56:00</td>\n",
       "      <td>0.9737</td>\n",
       "      <td>152</td>\n",
       "      <td>Olivia Amato</td>\n",
       "      <td>Born and raised in New York, Olivia grew up pl...</td>\n",
       "      <td>Workout Mat,Medium Weights</td>\n",
       "      <td>34+35 (Remix) (feat. Doja Cat &amp; Megan Thee Sta...</td>\n",
       "      <td>Ariana Grande,Doja Cat,Megan Thee Stallion,Jus...</td>\n",
       "      <td>https://members.onepeloton.com/classes/bootcam...</td>\n",
       "    </tr>\n",
       "    <tr>\n",
       "      <th>4</th>\n",
       "      <td>9680a817bf2149d2b91990c87166a400</td>\n",
       "      <td>20 min Pop Ride</td>\n",
       "      <td>We dare you not to dance as you ride to all th...</td>\n",
       "      <td>7.4000</td>\n",
       "      <td>20</td>\n",
       "      <td>Cycling</td>\n",
       "      <td>24</td>\n",
       "      <td>uk</td>\n",
       "      <td>2021-09-03 07:52:00</td>\n",
       "      <td>1.0000</td>\n",
       "      <td>82</td>\n",
       "      <td>Sam Yo</td>\n",
       "      <td>Sam is a pro at many things but shines when it...</td>\n",
       "      <td>None</td>\n",
       "      <td>Señorita,Marry You,Irreplaceable,What Do You M...</td>\n",
       "      <td>Justin Timberlake,Bruno Mars,Beyoncé,Justin Bi...</td>\n",
       "      <td>https://members.onepeloton.com/classes/bootcam...</td>\n",
       "    </tr>\n",
       "  </tbody>\n",
       "</table>\n",
       "</div>"
      ],
      "text/plain": [
       "                            classId                      className  \\\n",
       "0  7f66378211c9476b9b5619bf989f91d0        20 min Peace Meditation   \n",
       "1  54ac61803b364b2fa8378acd9f593cdb     15 min Bodyweight Strength   \n",
       "2  c75fd4831573483c9d45739aae11d083  20 min Focus Flow: Lower Body   \n",
       "3  470086936f7a4723ab5a53cb80b571ff            45 min Pop Bootcamp   \n",
       "4  9680a817bf2149d2b91990c87166a400                20 min Pop Ride   \n",
       "\n",
       "                                    classDescription  classDifficulty  \\\n",
       "0  A guided meditation that focuses on cultivatin...           4.3333   \n",
       "1  No equipment, no problem. Join us for a high-e...           5.7755   \n",
       "2  This yoga flow class focuses on poses that eng...           4.3664   \n",
       "3  Split your workout 50/50 between cardio on the...           7.8312   \n",
       "4  We dare you not to dance as you ride to all th...           7.4000   \n",
       "\n",
       "   classDuration       classType  classLength  classLocation  \\\n",
       "0             20      Meditation           23  psny-studio-2   \n",
       "1             15        Strength           19  psny-studio-3   \n",
       "2             20            Yoga           23  psny-studio-2   \n",
       "3             45  Tread Bootcamp           50  psny-studio-4   \n",
       "4             20         Cycling           24             uk   \n",
       "\n",
       "  classOriginalAirdate  classRating  classRatingCount instructorName  \\\n",
       "0  2021-09-03 13:25:00       0.9847               131     Aditi Shah   \n",
       "1  2021-09-03 13:19:00       0.9933               297   Olivia Amato   \n",
       "2  2021-09-03 12:51:00       1.0000               159     Aditi Shah   \n",
       "3  2021-09-03 11:56:00       0.9737               152   Olivia Amato   \n",
       "4  2021-09-03 07:52:00       1.0000                82         Sam Yo   \n",
       "\n",
       "                                       instructorBio  \\\n",
       "0  To Aditi, yoga goes beyond movement and can br...   \n",
       "1  Born and raised in New York, Olivia grew up pl...   \n",
       "2  To Aditi, yoga goes beyond movement and can br...   \n",
       "3  Born and raised in New York, Olivia grew up pl...   \n",
       "4  Sam is a pro at many things but shines when it...   \n",
       "\n",
       "                     classEquipment  \\\n",
       "0                        Yoga Block   \n",
       "1                       Workout Mat   \n",
       "2  Yoga Blanket,Yoga Block,Yoga Mat   \n",
       "3        Workout Mat,Medium Weights   \n",
       "4                              None   \n",
       "\n",
       "                                          classSongs  \\\n",
       "0                                      Meditation 22   \n",
       "1  California Gurls,Let's Get Loud,Let It Rock (f...   \n",
       "2  Interlude No 1,Oceansize,She Just Likes To Fig...   \n",
       "3  34+35 (Remix) (feat. Doja Cat & Megan Thee Sta...   \n",
       "4  Señorita,Marry You,Irreplaceable,What Do You M...   \n",
       "\n",
       "                                        classArtists  \\\n",
       "0                                              RIOPY   \n",
       "1  Katy Perry,Snoop Dogg,Jennifer Lopez,Kevin Rud...   \n",
       "2  James Vincent McMorrow,Oh Wonder,Four Tet,Grim...   \n",
       "3  Ariana Grande,Doja Cat,Megan Thee Stallion,Jus...   \n",
       "4  Justin Timberlake,Bruno Mars,Beyoncé,Justin Bi...   \n",
       "\n",
       "                                            classUrl  \n",
       "0  https://members.onepeloton.com/classes/bootcam...  \n",
       "1  https://members.onepeloton.com/classes/bootcam...  \n",
       "2  https://members.onepeloton.com/classes/bootcam...  \n",
       "3  https://members.onepeloton.com/classes/bootcam...  \n",
       "4  https://members.onepeloton.com/classes/bootcam...  "
      ]
     },
     "execution_count": 117,
     "metadata": {},
     "output_type": "execute_result"
    }
   ],
   "source": [
    "# import peloton data\n",
    "# Thank you to okaykristinakay on Reddit for the data!\n",
    "# Source: https://www.reddit.com/r/pelotoncycle/comments/m18xnr/peloton_class_list_march_update/\n",
    "df = pd.read_excel('../../../data/original_datasets/AGF_Peloton Classes March.xlsx')\n",
    "df.head()"
   ]
  },
  {
   "cell_type": "code",
   "execution_count": 118,
   "metadata": {},
   "outputs": [
    {
     "name": "stdout",
     "output_type": "stream",
     "text": [
      "<class 'pandas.core.frame.DataFrame'>\n",
      "RangeIndex: 16892 entries, 0 to 16891\n",
      "Data columns (total 17 columns):\n",
      "classId                 16892 non-null object\n",
      "className               16892 non-null object\n",
      "classDescription        16892 non-null object\n",
      "classDifficulty         16892 non-null float64\n",
      "classDuration           16892 non-null int64\n",
      "classType               16892 non-null object\n",
      "classLength             16892 non-null int64\n",
      "classLocation           16892 non-null object\n",
      "classOriginalAirdate    16892 non-null object\n",
      "classRating             16892 non-null float64\n",
      "classRatingCount        16892 non-null int64\n",
      "instructorName          16892 non-null object\n",
      "instructorBio           16883 non-null object\n",
      "classEquipment          16892 non-null object\n",
      "classSongs              16892 non-null object\n",
      "classArtists            16892 non-null object\n",
      "classUrl                16892 non-null object\n",
      "dtypes: float64(2), int64(3), object(12)\n",
      "memory usage: 2.2+ MB\n"
     ]
    }
   ],
   "source": [
    "# overview\n",
    "df.info()"
   ]
  },
  {
   "cell_type": "code",
   "execution_count": 119,
   "metadata": {},
   "outputs": [
    {
     "data": {
      "text/plain": [
       "['California Gurls',\n",
       " \"Let's Get Loud\",\n",
       " 'Let It Rock (feat. Lil Wayne)',\n",
       " 'Every Chance We Get We Run (feat. Tegan & Sara)',\n",
       " '34+35 (Remix) (feat. Doja Cat & Megan Thee Stallion)',\n",
       " 'Leave The World Behind']"
      ]
     },
     "execution_count": 119,
     "metadata": {},
     "output_type": "execute_result"
    }
   ],
   "source": [
    "# Pull song list from a class\n",
    "songtest = df['classSongs'][1].split(\",\")\n",
    "songtest"
   ]
  },
  {
   "cell_type": "code",
   "execution_count": 120,
   "metadata": {},
   "outputs": [
    {
     "data": {
      "text/plain": [
       "['Katy Perry',\n",
       " 'Snoop Dogg',\n",
       " 'Jennifer Lopez',\n",
       " 'Kevin Rudolf',\n",
       " 'Lil Wayne',\n",
       " 'David Guetta - Alesso',\n",
       " 'Tegan Rain Quin',\n",
       " 'Ariana Grande',\n",
       " 'Doja Cat',\n",
       " 'Megan Thee Stallion',\n",
       " 'SNBRN',\n",
       " 'Kaleena Zanders']"
      ]
     },
     "execution_count": 120,
     "metadata": {},
     "output_type": "execute_result"
    }
   ],
   "source": [
    "# Pull artist list from a class\n",
    "artisttest = df['classArtists'][1].split(\",\")\n",
    "artisttest"
   ]
  },
  {
   "cell_type": "code",
   "execution_count": 121,
   "metadata": {},
   "outputs": [],
   "source": [
    "#Spotify API set up\n",
    "# Source: https://betterprogramming.pub/how-to-extract-any-artists-data-using-spotify-s-api-python-and-spotipy-4c079401bc37\n",
    "client_id = '4aac5b215c8a4fc591b506b71af7ebf5'\n",
    "client_secret = '31d999b609424f569382b047ba828b00'\n",
    "\n",
    "client_credentials_manager = SpotifyClientCredentials(client_id, client_secret)\n",
    "sp = spotipy.Spotify(client_credentials_manager=client_credentials_manager)"
   ]
  },
  {
   "cell_type": "code",
   "execution_count": 122,
   "metadata": {},
   "outputs": [
    {
     "data": {
      "text/plain": [
       "'California Gurls Katy Perry'"
      ]
     },
     "execution_count": 122,
     "metadata": {},
     "output_type": "execute_result"
    }
   ],
   "source": [
    "# Set up search term \n",
    "searchtest = songtest[0] + \" \" + artisttest[0]\n",
    "searchtest"
   ]
  },
  {
   "cell_type": "code",
   "execution_count": 123,
   "metadata": {
    "scrolled": false
   },
   "outputs": [],
   "source": [
    "# Pull out trackid\n",
    "result = sp.search(searchtest)\n",
    "trackidtest = result['tracks']['items'][0]['id']"
   ]
  },
  {
   "cell_type": "code",
   "execution_count": 124,
   "metadata": {},
   "outputs": [
    {
     "data": {
      "text/plain": [
       "'6tS3XVuOyu10897O3ae7bi'"
      ]
     },
     "execution_count": 124,
     "metadata": {},
     "output_type": "execute_result"
    }
   ],
   "source": [
    "trackidtest"
   ]
  },
  {
   "cell_type": "code",
   "execution_count": 125,
   "metadata": {},
   "outputs": [],
   "source": [
    "track_df = pd.DataFrame(columns = ['name', 'album', 'artist', 'release_date', 'length', 'popularity', 'danceability', \n",
    "                        'acousticness', 'danceability', 'energy', 'instrumentalness', 'liveness', 'loudness', \n",
    "                        'speechiness', 'tempo', 'time_signature'])"
   ]
  },
  {
   "cell_type": "code",
   "execution_count": 126,
   "metadata": {},
   "outputs": [
    {
     "data": {
      "text/html": [
       "<div>\n",
       "<style scoped>\n",
       "    .dataframe tbody tr th:only-of-type {\n",
       "        vertical-align: middle;\n",
       "    }\n",
       "\n",
       "    .dataframe tbody tr th {\n",
       "        vertical-align: top;\n",
       "    }\n",
       "\n",
       "    .dataframe thead th {\n",
       "        text-align: right;\n",
       "    }\n",
       "</style>\n",
       "<table border=\"1\" class=\"dataframe\">\n",
       "  <thead>\n",
       "    <tr style=\"text-align: right;\">\n",
       "      <th></th>\n",
       "      <th>name</th>\n",
       "      <th>album</th>\n",
       "      <th>artist</th>\n",
       "      <th>release_date</th>\n",
       "      <th>length</th>\n",
       "      <th>popularity</th>\n",
       "      <th>danceability</th>\n",
       "      <th>acousticness</th>\n",
       "      <th>danceability</th>\n",
       "      <th>energy</th>\n",
       "      <th>instrumentalness</th>\n",
       "      <th>liveness</th>\n",
       "      <th>loudness</th>\n",
       "      <th>speechiness</th>\n",
       "      <th>tempo</th>\n",
       "      <th>time_signature</th>\n",
       "    </tr>\n",
       "  </thead>\n",
       "  <tbody>\n",
       "  </tbody>\n",
       "</table>\n",
       "</div>"
      ],
      "text/plain": [
       "Empty DataFrame\n",
       "Columns: [name, album, artist, release_date, length, popularity, danceability, acousticness, danceability, energy, instrumentalness, liveness, loudness, speechiness, tempo, time_signature]\n",
       "Index: []"
      ]
     },
     "execution_count": 126,
     "metadata": {},
     "output_type": "execute_result"
    }
   ],
   "source": [
    "track_df"
   ]
  },
  {
   "cell_type": "code",
   "execution_count": 127,
   "metadata": {},
   "outputs": [],
   "source": [
    "# Create function to pull out track features\n",
    "# Source: https://betterprogramming.pub/how-to-extract-any-artists-data-using-spotify-s-api-python-and-spotipy-4c079401bc37\n",
    "# Edited to put track information as additional row in track_df\n",
    "def getTrackFeatures(id):\n",
    "    meta = sp.track(id)\n",
    "    features = sp.audio_features(id)\n",
    "    \n",
    "    # meta\n",
    "    id_searched = id\n",
    "    name = meta['name']\n",
    "    album = meta['album']['name']\n",
    "    artist = meta['album']['artists'][0]['name']\n",
    "    release_date = meta['album']['release_date']\n",
    "    length = meta['duration_ms']\n",
    "    popularity = meta['popularity']\n",
    "    \n",
    "    # features\n",
    "    acousticness = features[0]['acousticness']\n",
    "    danceability = features[0]['danceability']\n",
    "    energy = features[0]['energy']\n",
    "    instrumentalness = features[0]['instrumentalness']\n",
    "    liveness = features[0]['liveness']\n",
    "    loudness = features[0]['loudness']\n",
    "    speechiness = features[0]['speechiness']\n",
    "    tempo = features[0]['tempo']\n",
    "    time_signature = features[0]['time_signature']\n",
    "    \n",
    "    track = [id_searched, name, album, artist, release_date, length, popularity, danceability, acousticness, \n",
    "             danceability, energy, instrumentalness, liveness, loudness, speechiness, tempo, time_signature]\n",
    "    \n",
    "    track_df.loc[(len(track_df) +1)] = track\n",
    "    return track_df"
   ]
  },
  {
   "cell_type": "code",
   "execution_count": 128,
   "metadata": {},
   "outputs": [
    {
     "data": {
      "text/html": [
       "<div>\n",
       "<style scoped>\n",
       "    .dataframe tbody tr th:only-of-type {\n",
       "        vertical-align: middle;\n",
       "    }\n",
       "\n",
       "    .dataframe tbody tr th {\n",
       "        vertical-align: top;\n",
       "    }\n",
       "\n",
       "    .dataframe thead th {\n",
       "        text-align: right;\n",
       "    }\n",
       "</style>\n",
       "<table border=\"1\" class=\"dataframe\">\n",
       "  <thead>\n",
       "    <tr style=\"text-align: right;\">\n",
       "      <th></th>\n",
       "      <th>name</th>\n",
       "      <th>album</th>\n",
       "      <th>artist</th>\n",
       "      <th>release_date</th>\n",
       "      <th>length</th>\n",
       "      <th>popularity</th>\n",
       "      <th>danceability</th>\n",
       "      <th>acousticness</th>\n",
       "      <th>danceability</th>\n",
       "      <th>energy</th>\n",
       "      <th>instrumentalness</th>\n",
       "      <th>liveness</th>\n",
       "      <th>loudness</th>\n",
       "      <th>speechiness</th>\n",
       "      <th>tempo</th>\n",
       "      <th>time_signature</th>\n",
       "    </tr>\n",
       "  </thead>\n",
       "  <tbody>\n",
       "    <tr>\n",
       "      <th>1</th>\n",
       "      <td>California Gurls</td>\n",
       "      <td>Katy Perry - Teenage Dream: The Complete Confe...</td>\n",
       "      <td>Katy Perry</td>\n",
       "      <td>2012-03-12</td>\n",
       "      <td>234653</td>\n",
       "      <td>74</td>\n",
       "      <td>0.791</td>\n",
       "      <td>0.00446</td>\n",
       "      <td>0.791</td>\n",
       "      <td>0.754</td>\n",
       "      <td>0</td>\n",
       "      <td>0.163</td>\n",
       "      <td>-3.729</td>\n",
       "      <td>0.0569</td>\n",
       "      <td>125.014</td>\n",
       "      <td>4</td>\n",
       "    </tr>\n",
       "  </tbody>\n",
       "</table>\n",
       "</div>"
      ],
      "text/plain": [
       "               name                                              album  \\\n",
       "1  California Gurls  Katy Perry - Teenage Dream: The Complete Confe...   \n",
       "\n",
       "       artist release_date  length popularity  danceability  acousticness  \\\n",
       "1  Katy Perry   2012-03-12  234653         74         0.791       0.00446   \n",
       "\n",
       "   danceability  energy instrumentalness  liveness  loudness  speechiness  \\\n",
       "1         0.791   0.754                0     0.163    -3.729       0.0569   \n",
       "\n",
       "     tempo time_signature  \n",
       "1  125.014              4  "
      ]
     },
     "execution_count": 128,
     "metadata": {},
     "output_type": "execute_result"
    }
   ],
   "source": [
    "trackresultstest = getTrackFeatures(trackidtest)\n",
    "trackresultstest"
   ]
  },
  {
   "cell_type": "code",
   "execution_count": 104,
   "metadata": {},
   "outputs": [
    {
     "data": {
      "text/plain": [
       "['California Gurls',\n",
       " 'Katy Perry - Teenage Dream: The Complete Confection',\n",
       " 'Katy Perry',\n",
       " '2012-03-12',\n",
       " 234653,\n",
       " 74,\n",
       " 0.791,\n",
       " 0.00446,\n",
       " 0.791,\n",
       " 0.754,\n",
       " 0,\n",
       " 0.163,\n",
       " -3.729,\n",
       " 0.0569,\n",
       " 125.014,\n",
       " 4]"
      ]
     },
     "execution_count": 104,
     "metadata": {},
     "output_type": "execute_result"
    }
   ],
   "source": [
    "# Use function to test track results function\n",
    "trackresultstest = getTrackFeatures(trackidtest)\n",
    "trackresultstest"
   ]
  },
  {
   "cell_type": "code",
   "execution_count": 110,
   "metadata": {},
   "outputs": [],
   "source": [
    "# Test appending row to track_df \n",
    "track_df.loc[0] = trackresultstest"
   ]
  },
  {
   "cell_type": "code",
   "execution_count": 111,
   "metadata": {},
   "outputs": [
    {
     "data": {
      "text/html": [
       "<div>\n",
       "<style scoped>\n",
       "    .dataframe tbody tr th:only-of-type {\n",
       "        vertical-align: middle;\n",
       "    }\n",
       "\n",
       "    .dataframe tbody tr th {\n",
       "        vertical-align: top;\n",
       "    }\n",
       "\n",
       "    .dataframe thead th {\n",
       "        text-align: right;\n",
       "    }\n",
       "</style>\n",
       "<table border=\"1\" class=\"dataframe\">\n",
       "  <thead>\n",
       "    <tr style=\"text-align: right;\">\n",
       "      <th></th>\n",
       "      <th>name</th>\n",
       "      <th>album</th>\n",
       "      <th>artist</th>\n",
       "      <th>release_date</th>\n",
       "      <th>length</th>\n",
       "      <th>popularity</th>\n",
       "      <th>danceability</th>\n",
       "      <th>acousticness</th>\n",
       "      <th>danceability</th>\n",
       "      <th>energy</th>\n",
       "      <th>instrumentalness</th>\n",
       "      <th>liveness</th>\n",
       "      <th>loudness</th>\n",
       "      <th>speechiness</th>\n",
       "      <th>tempo</th>\n",
       "      <th>time_signature</th>\n",
       "    </tr>\n",
       "  </thead>\n",
       "  <tbody>\n",
       "    <tr>\n",
       "      <th>0</th>\n",
       "      <td>California Gurls</td>\n",
       "      <td>Katy Perry - Teenage Dream: The Complete Confe...</td>\n",
       "      <td>Katy Perry</td>\n",
       "      <td>2012-03-12</td>\n",
       "      <td>234653</td>\n",
       "      <td>74</td>\n",
       "      <td>0.791</td>\n",
       "      <td>0.00446</td>\n",
       "      <td>0.791</td>\n",
       "      <td>0.754</td>\n",
       "      <td>0</td>\n",
       "      <td>0.163</td>\n",
       "      <td>-3.729</td>\n",
       "      <td>0.0569</td>\n",
       "      <td>125.014</td>\n",
       "      <td>4</td>\n",
       "    </tr>\n",
       "  </tbody>\n",
       "</table>\n",
       "</div>"
      ],
      "text/plain": [
       "               name                                              album  \\\n",
       "0  California Gurls  Katy Perry - Teenage Dream: The Complete Confe...   \n",
       "\n",
       "       artist release_date  length popularity  danceability  acousticness  \\\n",
       "0  Katy Perry   2012-03-12  234653         74         0.791       0.00446   \n",
       "\n",
       "   danceability  energy instrumentalness  liveness  loudness  speechiness  \\\n",
       "0         0.791   0.754                0     0.163    -3.729       0.0569   \n",
       "\n",
       "     tempo time_signature  \n",
       "0  125.014              4  "
      ]
     },
     "execution_count": 111,
     "metadata": {},
     "output_type": "execute_result"
    }
   ],
   "source": [
    "# Check results\n",
    "track_df"
   ]
  }
 ],
 "metadata": {
  "kernelspec": {
   "display_name": "Python 3",
   "language": "python",
   "name": "python3"
  },
  "language_info": {
   "codemirror_mode": {
    "name": "ipython",
    "version": 3
   },
   "file_extension": ".py",
   "mimetype": "text/x-python",
   "name": "python",
   "nbconvert_exporter": "python",
   "pygments_lexer": "ipython3",
   "version": "3.6.9"
  }
 },
 "nbformat": 4,
 "nbformat_minor": 4
}
